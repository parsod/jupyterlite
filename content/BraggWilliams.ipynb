{
 "cells": [
  {
   "cell_type": "markdown",
   "metadata": {},
   "source": [
    "# Interaktiva grafer för icke-ideala vätskeblandningar\n",
    "\n",
    "Välkommen till en samling interaktiva grafer som illustrerar ideala och icke-ideala vätskeblandningar på kursen Termodynamik och ytkemi (KFKA10).\n",
    "\n",
    "## Instruktioner\n",
    "\n",
    "För att starta alla tre graferna, välj <i>Run</i> -> <i>Run all cells</i> i menyn.\n",
    "\n",
    "Gemensamt för alla exemplen är att de använder Bragg-Williams-modellen, i vilken avvikelsen från ideal lösning beskrivs av en enda parameter &chi; (chi). När &chi; är större än 0 trivs molekylerna A och B <i>sämre</i> ihop än i en ideal lösning. När &chi; är mindre än 0 trivs molekylerna A och B <i>bättre</i> ihop än i en ideal lösning.\n",
    "\n",
    "### Graf 1: Ångtryck som funktion av sammansättningen.\n",
    "\n",
    "Förutom &chi; kan du variera ångtrycken för de rena ämnena, pA* och pB*. Om &chi;=0 erhålls förstås det vanliga tillståndsdiagrammet för ideal lösning (Raoults lag). Om &chi;>0 erhålls en positiv avvikelse från Raoults lag, alltså att &gamma;>1. Om &chi;<0 erhålls en negativ avvikelse från Raoults lag, alltså att &gamma;<1.\n",
    "\n",
    "### Graf 2: Gibbs blandningsenergi (ändringen när man tar bort en skiljevägg mellan två vätskor med samma tryck och temperatur)\n",
    "\n",
    "Här kan du bara variera &chi; och se hur &Delta;H och &Delta;G påverkas. Du kan också se minimat i Gibbs energi när man blandar lika mängd av vätskorna. När molekylerna trivs riktigt dåligt tillsammans (&chi; > 2) så kan du se att det blir två minima, som inte ligger vid xA=0.5. Det är alltså då mer fördelaktigt för blandningen att separera i två faser med olika sammansättning (tänk olja och vatten som ett extremt exempel).\n",
    "\n",
    "### Graf 3: Kokpunktsdiagram\n",
    "\n",
    "Här kan du förutom &chi; variera de normala kokpunkterna (TA och TB, i Kelvin) och ångbildningsentalpierna (HA och HB, i kJ/mol) för de båda ämnena. I grafen kan du se hur kokpunktskurvan och kondensationspunktskurvan ändras. Försök ställa in parametrarna så att du får en azeotrop!\n",
    "\n",
    "I koden kan du se att ångtrycken för de rena ämnena A och B vid en viss temperatur beräknas med Clausius-Clapeyrons ekvation, och att vi sedan bestämmer kokpunkten för varje sammansättning genom att lösa ekvationen pA+pB = 1 atm. Genom att även plotta ångans sammansättning så erhålls även ånglinjen (kondensationspunkten).\n",
    "\n",
    "\n",
    "## Bragg-Williams-modellen (för den intresserade)\n",
    "\n",
    "Modellen är en så kallad gitter-modell där molekylerna antas ligga i ett statiskt tredimensionellt gitter (\"rutnät\"), där varje plats innehåller en molekyl, antingen A eller B. Varje molekyl har <i>z</i> grannar och interaktionsenergin mellan två grannar antas vara wAA om båda är A-molekyler, wBB om båda är B-molekyler och wAB om det är en A och en B. Alla interaktionsenergier mellan molekyler som inte är grannar antas vara 0. Interaktionsparametern &chi; definieras som\n",
    "\n",
    "RT&chi;=z(wAB - 1/2 wAA - 1/2 wBB)\n",
    "\n",
    "Modellen antar sedan att A- och B-molekylerna är slumpvis fördelade i gittret, vilket naturligtvis är en approximation eftersom det i verkligheten skulle ligga färre B-molekyler runt en A-molekyl än det genomsnittliga värdet om &chi;>0 och tvärtom om &chi;<0."
   ]
  },
  {
   "cell_type": "code",
   "execution_count": 1,
   "metadata": {},
   "outputs": [],
   "source": [
    "from numpy import *\n",
    "import matplotlib.pyplot as plt\n",
    "import ipywidgets as widgets\n",
    "import scipy\n",
    "import scipy.optimize\n",
    "from scipy.optimize import fsolve\n",
    "\n",
    "plt.rcParams['figure.figsize'] = [12,8]\n",
    "plt.rcParams['figure.dpi'] = 100\n",
    "\n",
    "atm=1.01325E5\n",
    "torr=atm/760.0\n",
    "R=8.3145\n",
    "g=9.807\n",
    "NA=6.022e23\n",
    "def tok(x): return x+273.15\n",
    "\n",
    "\n",
    "\n",
    "RT=2.5 #kJ/mol\n",
    "#def slog(x): return log(x) if x>0 else 0   #DOES NOT WORK\n",
    "def pB(xB,chi=0,pBs=10): return xB*exp(chi*(1-xB)**2)*pBs\n",
    "def pA(xB,chi=0,pAs=20): return (1-xB)*exp(chi*xB**2)*pAs\n",
    "def DF(xB,chi=0): return RT*(chi*xB*(1-xB)+xB*log(xB)+(1-xB)*log(1-xB))\n",
    "def DU(xB,chi=0): return RT*(chi*xB*(1-xB))\n",
    "def TDS(xB,chi=0): return RT*(xB*log(xB)+(1-xB)*log(1-xB))  #-TDS\n",
    "    \n",
    "xB=linspace(0.001,0.999)"
   ]
  },
  {
   "cell_type": "code",
   "execution_count": 2,
   "metadata": {},
   "outputs": [
    {
     "data": {
      "application/vnd.jupyter.widget-view+json": {
       "model_id": "96e6c38e694b443da596bba707ac7e90",
       "version_major": 2,
       "version_minor": 0
      },
      "text/plain": [
       "interactive(children=(FloatSlider(value=0.0, description='chi', max=4.0, min=-2.0, step=0.25), FloatSlider(val…"
      ]
     },
     "metadata": {},
     "output_type": "display_data"
    },
    {
     "data": {
      "text/plain": [
       "<function __main__.update(chi, pAs, pBs)>"
      ]
     },
     "execution_count": 2,
     "metadata": {},
     "output_type": "execute_result"
    }
   ],
   "source": [
    "def update(chi,pAs,pBs):\n",
    "    plt.figure(2)\n",
    "    plt.xlabel('xB')\n",
    "    plt.ylabel('Ångtryck')\n",
    "    plt.ylim(0,100)\n",
    "    plt.xlim(0,1)\n",
    "    plt.plot(xB,pA(xB,0,pAs),'r--', label=\"pA (ideal)\")\n",
    "    plt.plot(xB,pB(xB,0,pBs),'b--',label=\"pB (ideal)\")\n",
    "    plt.plot(xB,pA(xB,0,pAs)+pB(xB,0,pBs),'k--',label=\"ptot (ideal)\")\n",
    "    plt.plot(xB,pA(xB,chi,pAs),'r-', label=\"pA\")\n",
    "    plt.plot(xB,pB(xB,chi,pBs),'b-', label=\"pB\")\n",
    "    plt.plot(xB,pA(xB,chi,pAs)+pB(xB,chi,pBs),'k-', label=\"ptot\")\n",
    "    plt.legend()\n",
    "    plt.show()\n",
    "    \n",
    "widgets.interact(update, chi = widgets.FloatSlider(value=0,\n",
    "                                               min=-2.0,\n",
    "                                               max=4.0,\n",
    "                                               step=0.25),\n",
    "                pAs = widgets.FloatSlider(value=20,\n",
    "                                               min=0,\n",
    "                                               max=100,\n",
    "                                               step=1),\n",
    "                pBs = widgets.FloatSlider(value=10,\n",
    "                                               min=0,\n",
    "                                               max=100,\n",
    "                                               step=1))"
   ]
  },
  {
   "cell_type": "code",
   "execution_count": 3,
   "metadata": {},
   "outputs": [
    {
     "data": {
      "application/vnd.jupyter.widget-view+json": {
       "model_id": "6591902f61fc4e86a4af3d1bf4866f20",
       "version_major": 2,
       "version_minor": 0
      },
      "text/plain": [
       "interactive(children=(FloatSlider(value=0.0, description='chi', max=4.0, min=-2.0, step=0.2), Output()), _dom_…"
      ]
     },
     "metadata": {},
     "output_type": "display_data"
    },
    {
     "data": {
      "text/plain": [
       "<function __main__.update(chi)>"
      ]
     },
     "execution_count": 3,
     "metadata": {},
     "output_type": "execute_result"
    }
   ],
   "source": [
    "def update(chi):\n",
    "    fig = plt.figure(1)\n",
    "    plt.xlabel('xB')\n",
    "    plt.ylabel('Gibbs energi (kJ/mol)')\n",
    "    plt.ylim(-3,3)\n",
    "    plt.xlim(0,1)\n",
    "\n",
    "    plt.plot(xB,DU(xB,chi),'r-', label=r'$\\Delta H$')\n",
    "    plt.plot(xB,TDS(xB,chi),'b-',label=r'$-T\\Delta S$')\n",
    "    plt.plot(xB,DF(xB,chi),'k-',label=r'$\\Delta G$')\n",
    "    plt.plot(xB,0*xB,'g--')\n",
    "    plt.legend()\n",
    "\n",
    "    if(chi>2):\n",
    "        x1,=fsolve(lambda x: log(x/(1-x))+chi*(1-2*x), 0.01)\n",
    "        x2=1-x1\n",
    "    else:\n",
    "        x1=x2=0.5\n",
    "    plt.plot(x1,DF(x1,chi),'go')\n",
    "    plt.plot(x2,DF(x2,chi),'go')\n",
    "    plt.show()\n",
    "\n",
    "    \n",
    "widgets.interact(update, chi = widgets.FloatSlider(value=0,\n",
    "                                               min=-2.0,\n",
    "                                               max=4.0,\n",
    "                                               step=0.2))\n"
   ]
  },
  {
   "cell_type": "code",
   "execution_count": 6,
   "metadata": {},
   "outputs": [
    {
     "data": {
      "application/vnd.jupyter.widget-view+json": {
       "model_id": "6dbdc773c1f14e2597b2884ceb2ebeab",
       "version_major": 2,
       "version_minor": 0
      },
      "text/plain": [
       "interactive(children=(FloatSlider(value=200.0, description='T', max=450.0, min=200.0, step=2.0), Output()), _d…"
      ]
     },
     "metadata": {},
     "output_type": "display_data"
    },
    {
     "data": {
      "text/plain": [
       "<function __main__.update(T)>"
      ]
     },
     "execution_count": 6,
     "metadata": {},
     "output_type": "execute_result"
    }
   ],
   "source": [
    "points=set()\n",
    "\n",
    "def update(T):\n",
    "    if(T>350) or (T>300 and T%4==0) or (T>300 and T%6==0) or (T>250 and T%10==0) or (T%20==0):\n",
    "        pass\n",
    "    else:\n",
    "        return\n",
    "    chi=800/T\n",
    "    fig = plt.figure(1)\n",
    "    plt.xlabel('xB')\n",
    "    plt.ylabel('Temperature (K)')\n",
    "    plt.ylim(50,450)\n",
    "    plt.xlim(0,1)\n",
    "\n",
    "    plt.plot(xB,150+100*DF(xB,chi),'k-',label=r'$\\Delta G$ (arbitrary scale)')\n",
    "    plt.plot(xB,150+0*xB,'g--')\n",
    "    \n",
    "\n",
    "    if(chi>2):\n",
    "        x1,=fsolve(lambda x: log(x/(1-x))+chi*(1-2*x), 0.01)\n",
    "        x2=1-x1\n",
    "    else:\n",
    "        x1=x2=0.5\n",
    "\n",
    "\n",
    "\n",
    "    plt.plot(x1,150+100*DF(x1,chi),'go')\n",
    "    plt.plot(x2,150+100*DF(x2,chi),'go')\n",
    "\n",
    "    if(chi>=2):\n",
    "        points.add((x1,T))\n",
    "        points.add((x2,T))\n",
    "\n",
    "\n",
    "    for (x,TT) in points:\n",
    "        plt.plot(x,TT,'bo')\n",
    "        \n",
    "    if(chi>=2):\n",
    "        plt.plot(x1,T,'ro', label='Free energy minima')\n",
    "        plt.plot(x2,T,'ro')\n",
    "\n",
    "        \n",
    "    plt.plot(xB,T+0*xB,'b-')\n",
    "\n",
    "    plt.legend()\n",
    "    plt.show()\n",
    "    \n",
    "\n",
    "    \n",
    "widgets.interact(update, T = widgets.FloatSlider(value=200,\n",
    "                                               min=200,\n",
    "                                               max=450,\n",
    "                                               step=2))\n",
    "\n"
   ]
  },
  {
   "cell_type": "code",
   "execution_count": 3,
   "metadata": {},
   "outputs": [
    {
     "data": {
      "application/vnd.jupyter.widget-view+json": {
       "model_id": "bbf613b2f78f4bae9d75b9cc16d4ae70",
       "version_major": 2,
       "version_minor": 0
      },
      "text/plain": [
       "interactive(children=(FloatSlider(value=0.0, description='chi', max=2.0, min=-2.0), FloatSlider(value=370.0, d…"
      ]
     },
     "metadata": {},
     "output_type": "display_data"
    }
   ],
   "source": [
    "\n",
    "x=linspace(0.001,0.999)\n",
    "\n",
    "def update(chi,TA,TB,HA,HB):\n",
    "    def pAs(T): return atm*exp(HA*1e3/R*(1/TA-1/T))\n",
    "    def pBs(T): return atm*exp(HB*1e3/R*(1/TB-1/T))\n",
    "    def pA(T,xA): return xA*exp(chi*(1-xA)**2)*pAs(T)\n",
    "    def pB(T,xA): return (1-xA)*exp(chi*xA**2)*pBs(T)\n",
    "    def ptot(T,xA): return pA(T,xA)+pB(T,xA)\n",
    "\n",
    "    fig = plt.figure()\n",
    "    plt.xlabel(r'$x_A$')\n",
    "    plt.ylabel('Temperatur (K)')\n",
    "    plt.ylim(320,380)\n",
    "    plt.xlim(0,1)\n",
    "    \n",
    "    Tblist=[]\n",
    "    yAlist=[]\n",
    "    for xA in x:\n",
    "        Tb,=fsolve(lambda T: ptot(T,xA)-atm, TA)\n",
    "        yA=pA(Tb,xA)/ptot(Tb,xA)\n",
    "        Tblist.append(Tb)\n",
    "        yAlist.append(yA)\n",
    "    \n",
    "    plt.plot(x,Tblist,'r-', label='kokpunkt')\n",
    "    plt.plot(yAlist,Tblist,'b-', label='kondensationspunkt')\n",
    "    plt.legend()\n",
    "    plt.show()\n",
    "\n",
    "widgets.interact(update, chi = widgets.FloatSlider(value=0,\n",
    "                                               min=-2.0,\n",
    "                                               max=2.0,\n",
    "                                               step=0.1),\n",
    "                TA = widgets.FloatSlider(value=370,\n",
    "                                               min=330,\n",
    "                                               max=370,\n",
    "                                               step=1),\n",
    "                TB = widgets.FloatSlider(value=350,\n",
    "                                               min=330,\n",
    "                                               max=370,\n",
    "                                               step=1),\n",
    "                HA = widgets.FloatSlider(value=50,\n",
    "                                               min=20,\n",
    "                                               max=60,\n",
    "                                               step=1),\n",
    "                HB = widgets.FloatSlider(value=50,\n",
    "                                               min=20,\n",
    "                                               max=60,\n",
    "                                               step=1));\n",
    "\n",
    "\n",
    "\n"
   ]
  },
  {
   "cell_type": "code",
   "execution_count": null,
   "metadata": {},
   "outputs": [],
   "source": []
  }
 ],
 "metadata": {
  "kernelspec": {
   "display_name": "Python 3 (ipykernel)",
   "language": "python",
   "name": "python3"
  },
  "language_info": {
   "codemirror_mode": {
    "name": "ipython",
    "version": 3
   },
   "file_extension": ".py",
   "mimetype": "text/x-python",
   "name": "python",
   "nbconvert_exporter": "python",
   "pygments_lexer": "ipython3",
   "version": "3.9.16"
  }
 },
 "nbformat": 4,
 "nbformat_minor": 4
}
